{
 "cells": [
  {
   "cell_type": "markdown",
   "metadata": {
    "collapsed": true
   },
   "source": [
    "# SET DATA\n",
    "\n",
    "Los sets o conjuntos son un componente fundamental en cualquier lenguage de modelado algebraico (AML). <br> Un Set es una collección de datos (numéricos o alfanuméricos) que se utiliza para especificar los índices válidos para otros componentes indexados (e.g. variables) del modelo.\n",
    "\n",
    "### I = model_name.I = Set ([initialize], [within/domain], [ordered])"
   ]
  },
  {
   "cell_type": "code",
   "execution_count": 1,
   "metadata": {},
   "outputs": [],
   "source": [
    "from  pyomo.environ import *\n",
    "m = ConcreteModel()"
   ]
  },
  {
   "cell_type": "markdown",
   "metadata": {
    "collapsed": true
   },
   "source": [
    "### 1. Crear el siguiente conjunto: A = {1, 2, 3, 4}\n"
   ]
  },
  {
   "cell_type": "code",
   "execution_count": 2,
   "metadata": {},
   "outputs": [],
   "source": [
    "A = m.A = Set(initialize = [1, 2, 3, 4])"
   ]
  },
  {
   "cell_type": "code",
   "execution_count": 3,
   "metadata": {},
   "outputs": [
    {
     "name": "stdout",
     "output_type": "stream",
     "text": [
      "A : Dim=0, Dimen=1, Size=4, Domain=None, Ordered=False, Bounds=(1, 4)\n",
      "    [1, 2, 3, 4]\n"
     ]
    }
   ],
   "source": [
    "# Para visulalizar el objeto\n",
    "A.pprint()"
   ]
  },
  {
   "cell_type": "markdown",
   "metadata": {
    "collapsed": true
   },
   "source": [
    "### 2. Crea el siguiente conjunto: B = {20, 21, ..., 40}"
   ]
  },
  {
   "cell_type": "code",
   "execution_count": 4,
   "metadata": {},
   "outputs": [],
   "source": [
    "B = m.B = RangeSet(20,40)"
   ]
  },
  {
   "cell_type": "code",
   "execution_count": 5,
   "metadata": {},
   "outputs": [
    {
     "name": "stdout",
     "output_type": "stream",
     "text": [
      "B : Dim=0, Dimen=1, Size=21, Domain=Integers, Ordered=True, Bounds=(20, 40)\n",
      "    Virtual\n"
     ]
    }
   ],
   "source": [
    "B.pprint()"
   ]
  },
  {
   "cell_type": "code",
   "execution_count": 6,
   "metadata": {},
   "outputs": [
    {
     "name": "stdout",
     "output_type": "stream",
     "text": [
      "20, 21, 22, 23, 24, 25, 26, 27, 28, 29, 30, 31, 32, 33, 34, 35, 36, 37, 38, 39, 40, "
     ]
    }
   ],
   "source": [
    "for i in B:\n",
    "    print(i, end = ', ')"
   ]
  },
  {
   "cell_type": "code",
   "execution_count": 7,
   "metadata": {},
   "outputs": [],
   "source": [
    "# Nota: python range es 0-indexed y Range Set es 1-indexed"
   ]
  },
  {
   "cell_type": "code",
   "execution_count": 8,
   "metadata": {},
   "outputs": [
    {
     "name": "stdout",
     "output_type": "stream",
     "text": [
      "C : Dim=0, Dimen=1, Size=20, Domain=None, Ordered=False, Bounds=(20, 39)\n",
      "    [20, 21, 22, 23, 24, 25, 26, 27, 28, 29, 30, 31, 32, 33, 34, 35, 36, 37, 38, 39]\n"
     ]
    }
   ],
   "source": [
    "C = m.C = Set(initialize = range(20,40))\n",
    "C.pprint()"
   ]
  },
  {
   "cell_type": "markdown",
   "metadata": {
    "collapsed": true
   },
   "source": [
    "### 3. Crear el siguiente conjunto con elementos alfanuméricos: D = {d1, d2, d3, d4}"
   ]
  },
  {
   "cell_type": "code",
   "execution_count": 9,
   "metadata": {},
   "outputs": [
    {
     "name": "stdout",
     "output_type": "stream",
     "text": [
      "D : Dim=0, Dimen=1, Size=4, Domain=None, Ordered=False, Bounds=None\n",
      "    ['d1', 'd2', 'd3', 'd4']\n"
     ]
    }
   ],
   "source": [
    "D = m.D = Set(initialize = ['d1', 'd2', 'd3', 'd4'])\n",
    "D.pprint()"
   ]
  },
  {
   "cell_type": "markdown",
   "metadata": {
    "collapsed": true
   },
   "source": [
    "#### Para acceder a un elemento un set:"
   ]
  },
  {
   "cell_type": "code",
   "execution_count": 10,
   "metadata": {},
   "outputs": [],
   "source": [
    "# D[3]"
   ]
  },
  {
   "cell_type": "markdown",
   "metadata": {},
   "source": [
    "Por defecto, los SETS no son conjuntos ordenados !"
   ]
  },
  {
   "cell_type": "code",
   "execution_count": 11,
   "metadata": {},
   "outputs": [
    {
     "name": "stdout",
     "output_type": "stream",
     "text": [
      "WARNING: Implicitly replacing the Component attribute D (type=<class\n",
      "    'pyomo.core.base.sets.SimpleSet'>) on block unknown with a new Component\n",
      "    (type=<class 'pyomo.core.base.sets.OrderedSimpleSet'>). This is usually\n",
      "    indicative of a modelling error. To avoid this warning, use\n",
      "    block.del_component() and block.add_component().\n"
     ]
    }
   ],
   "source": [
    "D = m.D = Set(initialize = ['d1', 'd2', 'd3', 'd4'], ordered = True)"
   ]
  },
  {
   "cell_type": "code",
   "execution_count": 12,
   "metadata": {},
   "outputs": [
    {
     "data": {
      "text/plain": [
       "'d3'"
      ]
     },
     "execution_count": 12,
     "metadata": {},
     "output_type": "execute_result"
    }
   ],
   "source": [
    "D[3]\n"
   ]
  },
  {
   "cell_type": "code",
   "execution_count": 13,
   "metadata": {},
   "outputs": [
    {
     "data": {
      "text/plain": [
       "24"
      ]
     },
     "execution_count": 13,
     "metadata": {},
     "output_type": "execute_result"
    }
   ],
   "source": [
    "# RangeSet es un conjunto ordenado\n",
    "B[5]\n"
   ]
  },
  {
   "cell_type": "markdown",
   "metadata": {
    "collapsed": true
   },
   "source": [
    "### 4. Obtención del ordinal de un set"
   ]
  },
  {
   "cell_type": "code",
   "execution_count": 14,
   "metadata": {},
   "outputs": [
    {
     "data": {
      "text/plain": [
       "3"
      ]
     },
     "execution_count": 14,
     "metadata": {},
     "output_type": "execute_result"
    }
   ],
   "source": [
    "D.ord('d3')"
   ]
  },
  {
   "cell_type": "markdown",
   "metadata": {
    "collapsed": true
   },
   "source": [
    "### 5. Obtención del cardinal de un set"
   ]
  },
  {
   "cell_type": "code",
   "execution_count": 15,
   "metadata": {},
   "outputs": [
    {
     "data": {
      "text/plain": [
       "4"
      ]
     },
     "execution_count": 15,
     "metadata": {},
     "output_type": "execute_result"
    }
   ],
   "source": [
    "len(D)"
   ]
  },
  {
   "cell_type": "markdown",
   "metadata": {
    "collapsed": true
   },
   "source": [
    "### 6. Crear el siguiente conjunto ordenad:  E = {e1, e2, ..., e50}"
   ]
  },
  {
   "cell_type": "code",
   "execution_count": 16,
   "metadata": {},
   "outputs": [],
   "source": [
    "set_e =[]\n",
    "for i in range(1,51):\n",
    "    set_e.append('e' + str(i))"
   ]
  },
  {
   "cell_type": "code",
   "execution_count": 17,
   "metadata": {},
   "outputs": [],
   "source": [
    "E = m.E = Set (initialize = set_e, ordered = True)"
   ]
  },
  {
   "cell_type": "code",
   "execution_count": 18,
   "metadata": {},
   "outputs": [
    {
     "name": "stdout",
     "output_type": "stream",
     "text": [
      "E : Dim=0, Dimen=1, Size=50, Domain=None, Ordered=Insertion, Bounds=None\n",
      "    ['e1', 'e2', 'e3', 'e4', 'e5', 'e6', 'e7', 'e8', 'e9', 'e10', 'e11', 'e12', 'e13', 'e14', 'e15', 'e16', 'e17', 'e18', 'e19', 'e20', 'e21', 'e22', 'e23', 'e24', 'e25', 'e26', 'e27', 'e28', 'e29', 'e30', 'e31', 'e32', 'e33', 'e34', 'e35', 'e36', 'e37', 'e38', 'e39', 'e40', 'e41', 'e42', 'e43', 'e44', 'e45', 'e46', 'e47', 'e48', 'e49', 'e50']\n"
     ]
    }
   ],
   "source": [
    "E.pprint()"
   ]
  },
  {
   "cell_type": "code",
   "execution_count": null,
   "metadata": {},
   "outputs": [],
   "source": []
  },
  {
   "cell_type": "markdown",
   "metadata": {
    "collapsed": true
   },
   "source": [
    "# 7. Operaciones con conjuntos\n",
    "    Unión        [|] \n",
    "    Intersección [&] \n",
    "    Diferencia   [-] \n",
    "    Exclusivo-or [^] "
   ]
  },
  {
   "cell_type": "code",
   "execution_count": 19,
   "metadata": {},
   "outputs": [],
   "source": [
    "F = m.F = Set(initialize = ['i1', 'i2', 'i3', 'i4'], ordered = True)\n",
    "G = m.G = Set(initialize = ['i3', 'i4', 'i5', 'i6'], ordered = True)"
   ]
  },
  {
   "cell_type": "markdown",
   "metadata": {},
   "source": [
    "#### 7.1 Unión"
   ]
  },
  {
   "cell_type": "code",
   "execution_count": 20,
   "metadata": {},
   "outputs": [],
   "source": [
    "H = m.H = Set(initialize = F | G)"
   ]
  },
  {
   "cell_type": "code",
   "execution_count": 21,
   "metadata": {},
   "outputs": [
    {
     "name": "stdout",
     "output_type": "stream",
     "text": [
      "H : Dim=0, Dimen=1, Size=6, Domain=None, Ordered=False, Bounds=None\n",
      "    ['i1', 'i2', 'i3', 'i4', 'i5', 'i6']\n"
     ]
    }
   ],
   "source": [
    "H.pprint()"
   ]
  },
  {
   "cell_type": "markdown",
   "metadata": {},
   "source": [
    "#### 7.2 Intersección"
   ]
  },
  {
   "cell_type": "code",
   "execution_count": 22,
   "metadata": {},
   "outputs": [
    {
     "name": "stdout",
     "output_type": "stream",
     "text": [
      "I : Dim=0, Dimen=1, Size=2, Domain=None, Ordered=False, Bounds=None\n",
      "    ['i3', 'i4']\n"
     ]
    }
   ],
   "source": [
    "I = m.I = Set(initialize = F & G)\n",
    "I.pprint()"
   ]
  },
  {
   "cell_type": "markdown",
   "metadata": {},
   "source": [
    "#### 7.3 Diferencia"
   ]
  },
  {
   "cell_type": "code",
   "execution_count": 23,
   "metadata": {},
   "outputs": [
    {
     "name": "stdout",
     "output_type": "stream",
     "text": [
      "J : Dim=0, Dimen=1, Size=2, Domain=None, Ordered=False, Bounds=None\n",
      "    ['i1', 'i2']\n"
     ]
    }
   ],
   "source": [
    "J = m.J = Set(initialize = F - G)\n",
    "J.pprint()\n"
   ]
  },
  {
   "cell_type": "markdown",
   "metadata": {},
   "source": [
    "#### O exclusivo"
   ]
  },
  {
   "cell_type": "code",
   "execution_count": 24,
   "metadata": {},
   "outputs": [
    {
     "name": "stdout",
     "output_type": "stream",
     "text": [
      "K : Dim=0, Dimen=1, Size=4, Domain=None, Ordered=False, Bounds=None\n",
      "    ['i1', 'i2', 'i5', 'i6']\n"
     ]
    }
   ],
   "source": [
    "K = m.K = Set (initialize = F^G)\n",
    "K.pprint()"
   ]
  },
  {
   "cell_type": "markdown",
   "metadata": {},
   "source": [
    "### 8. Multidimensional sets"
   ]
  },
  {
   "cell_type": "code",
   "execution_count": 25,
   "metadata": {},
   "outputs": [],
   "source": [
    "country = m.country = Set (initialize = ['spain', 'finland', 'italy', 'germany', 'netherlands'], ordered = True)\n",
    "city    = m.city    = Set (initialize = ['malaga', 'tarragona', 'turku', 'tampere', 'rome', 'bonn', 'delft', 'denhaag'], ordered = True)"
   ]
  },
  {
   "cell_type": "markdown",
   "metadata": {},
   "source": [
    "#### Producto cruzado"
   ]
  },
  {
   "cell_type": "code",
   "execution_count": 26,
   "metadata": {},
   "outputs": [
    {
     "name": "stdout",
     "output_type": "stream",
     "text": [
      "L : Dim=0, Dimen=2, Size=40, Domain=None, Ordered=Insertion, Bounds=None\n",
      "    [('spain', 'malaga'), ('spain', 'tarragona'), ('spain', 'turku'), ('spain', 'tampere'), ('spain', 'rome'), ('spain', 'bonn'), ('spain', 'delft'), ('spain', 'denhaag'), ('finland', 'malaga'), ('finland', 'tarragona'), ('finland', 'turku'), ('finland', 'tampere'), ('finland', 'rome'), ('finland', 'bonn'), ('finland', 'delft'), ('finland', 'denhaag'), ('italy', 'malaga'), ('italy', 'tarragona'), ('italy', 'turku'), ('italy', 'tampere'), ('italy', 'rome'), ('italy', 'bonn'), ('italy', 'delft'), ('italy', 'denhaag'), ('germany', 'malaga'), ('germany', 'tarragona'), ('germany', 'turku'), ('germany', 'tampere'), ('germany', 'rome'), ('germany', 'bonn'), ('germany', 'delft'), ('germany', 'denhaag'), ('netherlands', 'malaga'), ('netherlands', 'tarragona'), ('netherlands', 'turku'), ('netherlands', 'tampere'), ('netherlands', 'rome'), ('netherlands', 'bonn'), ('netherlands', 'delft'), ('netherlands', 'denhaag')]\n"
     ]
    }
   ],
   "source": [
    "L  = m.L = Set (initialize = country * city, ordered = True)\n",
    "L.pprint()"
   ]
  },
  {
   "cell_type": "code",
   "execution_count": 27,
   "metadata": {},
   "outputs": [],
   "source": [
    "CC  = m.CC = Set (within = country * city, ordered = True)"
   ]
  },
  {
   "cell_type": "code",
   "execution_count": 28,
   "metadata": {},
   "outputs": [
    {
     "name": "stdout",
     "output_type": "stream",
     "text": [
      "CC : Dim=0, Dimen=2, Size=0, Domain=CC_domain, Ordered=Insertion, Bounds=None\n",
      "    []\n"
     ]
    }
   ],
   "source": [
    "CC.pprint()"
   ]
  },
  {
   "cell_type": "code",
   "execution_count": 29,
   "metadata": {},
   "outputs": [
    {
     "data": {
      "text/plain": [
       "dict"
      ]
     },
     "execution_count": 29,
     "metadata": {},
     "output_type": "execute_result"
    }
   ],
   "source": [
    "cc_mapping = { 'spain'     : ['malaga', 'tarragona'],\n",
    "               'finland'   : ['turku', 'tampere'],\n",
    "               'italy'     : ['rome'],\n",
    "               'germany'   : ['bonn'],\n",
    "               'netherlands': ['delft', 'denhaag']}\n",
    "type (cc_mapping)"
   ]
  },
  {
   "cell_type": "code",
   "execution_count": 30,
   "metadata": {},
   "outputs": [],
   "source": [
    "for i in cc_mapping:\n",
    "    for j in cc_mapping[i]:\n",
    "        CC.add((i,j))\n",
    "        "
   ]
  },
  {
   "cell_type": "code",
   "execution_count": 31,
   "metadata": {},
   "outputs": [
    {
     "name": "stdout",
     "output_type": "stream",
     "text": [
      "CC : Dim=0, Dimen=2, Size=8, Domain=CC_domain, Ordered=Insertion, Bounds=None\n",
      "    [('spain', 'malaga'), ('spain', 'tarragona'), ('finland', 'turku'), ('finland', 'tampere'), ('italy', 'rome'), ('germany', 'bonn'), ('netherlands', 'delft'), ('netherlands', 'denhaag')]\n"
     ]
    }
   ],
   "source": [
    "CC.pprint()"
   ]
  },
  {
   "cell_type": "code",
   "execution_count": 32,
   "metadata": {},
   "outputs": [],
   "source": [
    "# Otra opción es ...\n",
    "CC_2 = m.CC_2 = Set(within = country * city, initialize = [\n",
    "        ('spain', 'malaga'), ('spain', 'tarragona'), ('finland', 'turku')\n",
    "    ], ordered = True)"
   ]
  },
  {
   "cell_type": "code",
   "execution_count": 33,
   "metadata": {},
   "outputs": [
    {
     "name": "stdout",
     "output_type": "stream",
     "text": [
      "CC_2 : Dim=0, Dimen=2, Size=3, Domain=CC_2_domain, Ordered=Insertion, Bounds=None\n",
      "    [('spain', 'malaga'), ('spain', 'tarragona'), ('finland', 'turku')]\n"
     ]
    }
   ],
   "source": [
    "CC_2.pprint()\n"
   ]
  },
  {
   "cell_type": "markdown",
   "metadata": {
    "collapsed": true
   },
   "source": [
    "### 9. Filtros"
   ]
  },
  {
   "cell_type": "markdown",
   "metadata": {
    "collapsed": true
   },
   "source": [
    "\n",
    "Ejemplo del conjunto E aneterior ( E = {e1, e2, ..., e50} ) tomar únicamente los elementos pares\n",
    "\n"
   ]
  },
  {
   "cell_type": "code",
   "execution_count": 34,
   "metadata": {},
   "outputs": [
    {
     "name": "stdout",
     "output_type": "stream",
     "text": [
      "['e2', 'e4', 'e6', 'e8', 'e10', 'e12', 'e14', 'e16', 'e18', 'e20', 'e22', 'e24', 'e26', 'e28', 'e30', 'e32', 'e34', 'e36', 'e38', 'e40', 'e42', 'e44', 'e46', 'e48', 'e50']\n"
     ]
    }
   ],
   "source": [
    "even_elements = []\n",
    "for i, e in enumerate(set_e):\n",
    "    if (i+1) % 2 ==0:\n",
    "        even_elements.append(e)\n",
    "print(even_elements)"
   ]
  },
  {
   "cell_type": "code",
   "execution_count": 35,
   "metadata": {
    "scrolled": true
   },
   "outputs": [
    {
     "name": "stdout",
     "output_type": "stream",
     "text": [
      "P : Dim=0, Dimen=1, Size=25, Domain=None, Ordered=Insertion, Bounds=None\n",
      "    ['e2', 'e4', 'e6', 'e8', 'e10', 'e12', 'e14', 'e16', 'e18', 'e20', 'e22', 'e24', 'e26', 'e28', 'e30', 'e32', 'e34', 'e36', 'e38', 'e40', 'e42', 'e44', 'e46', 'e48', 'e50']\n"
     ]
    }
   ],
   "source": [
    "def filter_rule (m, e):\n",
    "    return e in even_elements\n",
    "\n",
    "P = m.P = Set(initialize = set_e, filter = filter_rule, ordered = True)\n",
    "P.pprint()"
   ]
  }
 ],
 "metadata": {
  "kernelspec": {
   "display_name": "Python 3",
   "language": "python",
   "name": "python3"
  },
  "language_info": {
   "codemirror_mode": {
    "name": "ipython",
    "version": 3
   },
   "file_extension": ".py",
   "mimetype": "text/x-python",
   "name": "python",
   "nbconvert_exporter": "python",
   "pygments_lexer": "ipython3",
   "version": "3.7.3"
  }
 },
 "nbformat": 4,
 "nbformat_minor": 1
}
